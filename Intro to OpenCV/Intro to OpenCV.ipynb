{
 "cells": [
  {
   "cell_type": "code",
   "execution_count": 1,
   "metadata": {},
   "outputs": [],
   "source": [
    "import cv2 "
   ]
  },
  {
   "attachments": {},
   "cell_type": "markdown",
   "metadata": {},
   "source": [
    "# Image and Video Functions"
   ]
  },
  {
   "cell_type": "code",
   "execution_count": 2,
   "metadata": {},
   "outputs": [
    {
     "data": {
      "text/plain": [
       "-1"
      ]
     },
     "execution_count": 2,
     "metadata": {},
     "output_type": "execute_result"
    }
   ],
   "source": [
    "#function to import image\n",
    "img = cv2.imread(\"Images/kawhi.jpg\")\n",
    "\n",
    "#display takes in two params (window name + img), waitkey for delay (in ms)\n",
    "cv2.imshow(\"Output\", img)\n",
    "cv2.waitKey(1000)"
   ]
  },
  {
   "cell_type": "code",
   "execution_count": 3,
   "metadata": {},
   "outputs": [
    {
     "data": {
      "text/plain": [
       "'\\ncapture = cv2.VideoCapture(\"Video URL Here\")\\n\\n#since video is sequence of imgs, use while loop to display sequence of images\\nwhile True:\\n    #img var saves sequence of images, success returns a bool if that was completed or not\\n    success, img = capture.read()\\n    cv2.imshow(\"Video\", img)\\n    \\n    #adds 1ms delay and checks if q is pressed to exit\\n    if cv2.waitKey(1) & 0xFF == ord(\\'q\\'):\\n        break\\n'"
      ]
     },
     "execution_count": 3,
     "metadata": {},
     "output_type": "execute_result"
    }
   ],
   "source": [
    "#function to create video capture object\n",
    "'''\n",
    "capture = cv2.VideoCapture(\"Video URL Here\")\n",
    "\n",
    "#since video is sequence of imgs, use while loop to display sequence of images\n",
    "while True:\n",
    "    #img var saves sequence of images, success returns a bool if that was completed or not\n",
    "    success, img = capture.read()\n",
    "    cv2.imshow(\"Video\", img)\n",
    "    \n",
    "    #adds 1ms delay and checks if q is pressed to exit\n",
    "    if cv2.waitKey(1) & 0xFF == ord('q'):\n",
    "        break\n",
    "'''"
   ]
  },
  {
   "cell_type": "code",
   "execution_count": 4,
   "metadata": {},
   "outputs": [],
   "source": [
    "#function to connect to webcam, pass in id of webcam (i.e 0 is default id for only one webcam)\n",
    "cap = cv2.VideoCapture(0)\n",
    "\n",
    "#setting width + height of webcam box (width id is 3, height id is 4, brightness id is 10)\n",
    "cap.set(3, 640)\n",
    "cap.set(4, 480)\n",
    "\n",
    "cap.set(10, 100)\n",
    "while True:\n",
    "    success, img = cap.read()\n",
    "    cv2.imshow(\"Video\", img)\n",
    "    if cv2.waitKey(1) & 0xFF == ord('q'):\n",
    "        break"
   ]
  }
 ],
 "metadata": {
  "kernelspec": {
   "display_name": "Python 3",
   "language": "python",
   "name": "python3"
  },
  "language_info": {
   "codemirror_mode": {
    "name": "ipython",
    "version": 3
   },
   "file_extension": ".py",
   "mimetype": "text/x-python",
   "name": "python",
   "nbconvert_exporter": "python",
   "pygments_lexer": "ipython3",
   "version": "3.10.11"
  },
  "orig_nbformat": 4
 },
 "nbformat": 4,
 "nbformat_minor": 2
}
