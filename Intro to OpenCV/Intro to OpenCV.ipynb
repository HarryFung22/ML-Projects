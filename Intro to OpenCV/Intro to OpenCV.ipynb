{
 "cells": [
  {
   "cell_type": "code",
   "execution_count": 2,
   "metadata": {},
   "outputs": [],
   "source": [
    "import cv2 "
   ]
  },
  {
   "attachments": {},
   "cell_type": "markdown",
   "metadata": {},
   "source": [
    "# Image and Video Functions"
   ]
  },
  {
   "cell_type": "code",
   "execution_count": 3,
   "metadata": {},
   "outputs": [
    {
     "data": {
      "text/plain": [
       "-1"
      ]
     },
     "execution_count": 3,
     "metadata": {},
     "output_type": "execute_result"
    }
   ],
   "source": [
    "#function to import image\n",
    "img = cv2.imread(\"Images/kawhi.jpg\")\n",
    "\n",
    "#display takes in two params (window name + img), waitkey for delay (in ms)\n",
    "cv2.imshow(\"Output\", img)\n",
    "cv2.waitKey(1000)"
   ]
  },
  {
   "cell_type": "code",
   "execution_count": 4,
   "metadata": {},
   "outputs": [
    {
     "data": {
      "text/plain": [
       "'\\ncapture = cv2.VideoCapture(\"Video URL Here\")\\n\\n#since video is sequence of imgs, use while loop to display sequence of images\\nwhile True:\\n    #img var saves sequence of images, success returns a bool if that was completed or not\\n    success, img = capture.read()\\n    cv2.imshow(\"Video\", img)\\n    \\n    #adds 1ms delay and checks if q is pressed to exit\\n    if cv2.waitKey(1) & 0xFF == ord(\\'q\\'):\\n        break\\n'"
      ]
     },
     "execution_count": 4,
     "metadata": {},
     "output_type": "execute_result"
    }
   ],
   "source": [
    "#function to create video capture object\n",
    "'''\n",
    "capture = cv2.VideoCapture(\"Video URL Here\")\n",
    "\n",
    "#since video is sequence of imgs, use while loop to display sequence of images\n",
    "while True:\n",
    "    #img var saves sequence of images, success returns a bool if that was completed or not\n",
    "    success, img = capture.read()\n",
    "    cv2.imshow(\"Video\", img)\n",
    "    \n",
    "    #adds 1ms delay and checks if q is pressed to exit\n",
    "    if cv2.waitKey(1) & 0xFF == ord('q'):\n",
    "        break\n",
    "'''"
   ]
  },
  {
   "cell_type": "code",
   "execution_count": 5,
   "metadata": {},
   "outputs": [],
   "source": [
    "#function to connect to webcam, pass in id of webcam (i.e 0 is default id for only one webcam)\n",
    "cap = cv2.VideoCapture(0)\n",
    "\n",
    "#setting width + height of webcam box (width id is 3, height id is 4, brightness id is 10)\n",
    "cap.set(3, 640)\n",
    "cap.set(4, 480)\n",
    "\n",
    "cap.set(10, 100)\n",
    "while True:\n",
    "    success, img = cap.read()\n",
    "    cv2.imshow(\"Video\", img)\n",
    "    if cv2.waitKey(1) & 0xFF == ord('q'):\n",
    "        break"
   ]
  },
  {
   "attachments": {},
   "cell_type": "markdown",
   "metadata": {},
   "source": [
    "# Basic Functions"
   ]
  },
  {
   "cell_type": "code",
   "execution_count": 6,
   "metadata": {},
   "outputs": [
    {
     "data": {
      "text/plain": [
       "-1"
      ]
     },
     "execution_count": 6,
     "metadata": {},
     "output_type": "execute_result"
    }
   ],
   "source": [
    "img = cv2.imread(\"Images/kawhi.jpg\")\n",
    "\n",
    "#convert to grayscale (in opencv, its BGR instead of RGB)\n",
    "imgGray = cv2.cvtColor(img, cv2.COLOR_BGR2GRAY)\n",
    "cv2.imshow(\"Gray Image\", imgGray)\n",
    "cv2.waitKey(0)"
   ]
  },
  {
   "cell_type": "code",
   "execution_count": 7,
   "metadata": {},
   "outputs": [
    {
     "data": {
      "text/plain": [
       "-1"
      ]
     },
     "execution_count": 7,
     "metadata": {},
     "output_type": "execute_result"
    }
   ],
   "source": [
    "#gaussian blur (define kernel size, must be odd numbers)\n",
    "imgBlur = cv2.GaussianBlur(imgGray, (7, 7), 0)\n",
    "cv2.imshow(\"Blur Image\", imgBlur)\n",
    "cv2.waitKey(0)"
   ]
  },
  {
   "cell_type": "code",
   "execution_count": 8,
   "metadata": {},
   "outputs": [
    {
     "data": {
      "text/plain": [
       "-1"
      ]
     },
     "execution_count": 8,
     "metadata": {},
     "output_type": "execute_result"
    }
   ],
   "source": [
    "#edge detector function (define threshold values)\n",
    "imgCanny = cv2.Canny(img, 50, 50)\n",
    "cv2.imshow(\"Canny Image\", imgBlur)\n",
    "cv2.waitKey(0)"
   ]
  },
  {
   "attachments": {},
   "cell_type": "markdown",
   "metadata": {},
   "source": [
    "# Resizing and Cropping\n"
   ]
  },
  {
   "cell_type": "code",
   "execution_count": 9,
   "metadata": {},
   "outputs": [
    {
     "name": "stdout",
     "output_type": "stream",
     "text": [
      "(1797, 1440, 3)\n"
     ]
    },
    {
     "data": {
      "text/plain": [
       "-1"
      ]
     },
     "execution_count": 9,
     "metadata": {},
     "output_type": "execute_result"
    }
   ],
   "source": [
    "#pos x axis is towards east, while pos y is towards south\n",
    "img = cv2.imread(\"Images/kawhi.jpg\")\n",
    "\n",
    "#returns dimensions of image (height, width, # of colour channels)\n",
    "print(img.shape)\n",
    "\n",
    "imgResize = cv2.resize(img, (500, 300))\n",
    "cv2.imshow(\"Image Resize\", imgResize)\n",
    "cv2.waitKey(0)"
   ]
  },
  {
   "cell_type": "code",
   "execution_count": 12,
   "metadata": {},
   "outputs": [
    {
     "data": {
      "text/plain": [
       "-1"
      ]
     },
     "execution_count": 12,
     "metadata": {},
     "output_type": "execute_result"
    }
   ],
   "source": [
    "#image cropping (use matrix functionality of picture), (define range of height, then range of width)\n",
    "imgCropped = img[0:600, 200:800]\n",
    "cv2.imshow(\"Cropped Image\", imgCropped)\n",
    "cv2.waitKey(0)"
   ]
  },
  {
   "attachments": {},
   "cell_type": "markdown",
   "metadata": {},
   "source": [
    "# Shapes and Texts"
   ]
  },
  {
   "cell_type": "code",
   "execution_count": 23,
   "metadata": {},
   "outputs": [
    {
     "name": "stdout",
     "output_type": "stream",
     "text": [
      "(512, 512, 3)\n"
     ]
    },
    {
     "data": {
      "text/plain": [
       "-1"
      ]
     },
     "execution_count": 23,
     "metadata": {},
     "output_type": "execute_result"
    }
   ],
   "source": [
    "import numpy as np\n",
    "\n",
    "#create a matrix full (0 represents black, 1 represents white, define 3 colour channels, np.uint8 returns these values between 0-255)\n",
    "img = np.zeros((512, 512, 3), np.uint8)\n",
    "print(img.shape)\n",
    "\n",
    "#colour whole image\n",
    "img[:] = 255, 0, 0\n",
    "\n",
    "#creating a line (define start point, end point (shape[1] is width while shape[0] is height), colour, and line thickness)\n",
    "cv2.line(img, (0,0), (img.shape[1], img.shape[0]), (0, 255, 0), 3)\n",
    "\n",
    "#creates a rectangle (same properties as the line)\n",
    "cv2.rectangle(img, (0, 0), (250, 350), (0, 0, 255), cv2.FILLED)\n",
    "\n",
    "#adding text (define origin point of text, font of text, scale, colour, and text thickness)\n",
    "cv2.putText(img, \"OPENCV\", (300, 200), cv2.FONT_HERSHEY_DUPLEX, 1, (0, 150, 0), 3)\n",
    "\n",
    "cv2.imshow(\"Image\", img)\n",
    "cv2.waitKey(0)"
   ]
  }
 ],
 "metadata": {
  "kernelspec": {
   "display_name": "Python 3",
   "language": "python",
   "name": "python3"
  },
  "language_info": {
   "codemirror_mode": {
    "name": "ipython",
    "version": 3
   },
   "file_extension": ".py",
   "mimetype": "text/x-python",
   "name": "python",
   "nbconvert_exporter": "python",
   "pygments_lexer": "ipython3",
   "version": "3.10.11"
  },
  "orig_nbformat": 4
 },
 "nbformat": 4,
 "nbformat_minor": 2
}
